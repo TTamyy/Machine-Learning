{
  "nbformat": 4,
  "nbformat_minor": 0,
  "metadata": {
    "colab": {
      "name": "Cross_Validation.ipynb",
      "provenance": [],
      "collapsed_sections": [],
      "authorship_tag": "ABX9TyN/OcXCOpSE/NUlMGc1dard",
      "include_colab_link": true
    },
    "kernelspec": {
      "name": "python3",
      "display_name": "Python 3"
    }
  },
  "cells": [
    {
      "cell_type": "markdown",
      "metadata": {
        "id": "view-in-github",
        "colab_type": "text"
      },
      "source": [
        "<a href=\"https://colab.research.google.com/github/TTamyy/Machine-Learning/blob/Cross_Validation/Cross_Validation.ipynb\" target=\"_parent\"><img src=\"https://colab.research.google.com/assets/colab-badge.svg\" alt=\"Open In Colab\"/></a>"
      ]
    },
    {
      "cell_type": "code",
      "metadata": {
        "id": "jMFLDDhZ5Kn5",
        "colab_type": "code",
        "outputId": "65020e5e-e343-4c03-ac9c-fcde8dca8d76",
        "colab": {
          "base_uri": "https://localhost:8080/",
          "height": 306
        }
      },
      "source": [
        "\n",
        "import numpy as np\n",
        "from sklearn.model_selection import LeaveOneOut\n",
        "\n",
        "\n",
        "X = np.array([[1, 2], [3, 4],[5,6],[8,9]])\n",
        "y = np.array([1, 2,1,2])\n",
        "\n",
        "#USING LEAVE ONE OUT -> TRAIN N-1 SAMPLES, TEST 1 SAMPLE\n",
        "loo = LeaveOneOut()\n",
        "loo.get_n_splits(X)\n",
        "\n",
        "print(loo)\n",
        "\n",
        "for train_index, test_index in loo.split(X):\n",
        "    print(\"TRAIN:\", train_index, \"TEST:\", test_index)\n",
        "    X_train, X_test = X[train_index], X[test_index]\n",
        "    y_train, y_test = y[train_index], y[test_index]\n",
        "    print(X_train, X_test, y_train, y_test)\n"
      ],
      "execution_count": 0,
      "outputs": [
        {
          "output_type": "stream",
          "text": [
            "LeaveOneOut()\n",
            "TRAIN: [1 2 3] TEST: [0]\n",
            "[[3 4]\n",
            " [5 6]\n",
            " [8 9]] [[1 2]] [2 1 2] [1]\n",
            "TRAIN: [0 2 3] TEST: [1]\n",
            "[[1 2]\n",
            " [5 6]\n",
            " [8 9]] [[3 4]] [1 1 2] [2]\n",
            "TRAIN: [0 1 3] TEST: [2]\n",
            "[[1 2]\n",
            " [3 4]\n",
            " [8 9]] [[5 6]] [1 2 2] [1]\n",
            "TRAIN: [0 1 2] TEST: [3]\n",
            "[[1 2]\n",
            " [3 4]\n",
            " [5 6]] [[8 9]] [1 2 1] [2]\n"
          ],
          "name": "stdout"
        }
      ]
    },
    {
      "cell_type": "code",
      "metadata": {
        "id": "ZVp2Aio9AJRC",
        "colab_type": "code",
        "outputId": "1046b921-b68b-4048-e1ad-b54385034c1b",
        "colab": {
          "base_uri": "https://localhost:8080/",
          "height": 204
        }
      },
      "source": [
        "import numpy as np\n",
        "from sklearn.model_selection import StratifiedKFold\n",
        "X = np.array([[1, 2], [3, 4], [1, 2], [3, 4],[1,2]])\n",
        "y = np.array([0, 0, 1, 1,0])\n",
        "\n",
        "#Each set contains approximately the same percentage of samples of each target class as the complete set.\n",
        "skf = StratifiedKFold(n_splits=2)\n",
        "skf.get_n_splits(X, y)\n",
        "\n",
        "print(skf)\n",
        "\n",
        "for train_index, test_index in skf.split(X, y):\n",
        "    print(\"TRAIN:\", train_index, \"TEST:\", test_index)\n",
        "    X_train, X_test = X[train_index], X[test_index]\n",
        "    y_train, y_test = y[train_index], y[test_index]\n",
        "    print(X_train, X_test, y_train, y_test)\n"
      ],
      "execution_count": 34,
      "outputs": [
        {
          "output_type": "stream",
          "text": [
            "StratifiedKFold(n_splits=2, random_state=None, shuffle=False)\n",
            "TRAIN: [3 4] TEST: [0 1 2]\n",
            "[[3 4]\n",
            " [1 2]] [[1 2]\n",
            " [3 4]\n",
            " [1 2]] [1 0] [0 0 1]\n",
            "TRAIN: [0 1 2] TEST: [3 4]\n",
            "[[1 2]\n",
            " [3 4]\n",
            " [1 2]] [[3 4]\n",
            " [1 2]] [0 0 1] [1 0]\n"
          ],
          "name": "stdout"
        }
      ]
    },
    {
      "cell_type": "code",
      "metadata": {
        "id": "VaZ9kQEsNuU3",
        "colab_type": "code",
        "colab": {}
      },
      "source": [
        ""
      ],
      "execution_count": 0,
      "outputs": []
    }
  ]
}